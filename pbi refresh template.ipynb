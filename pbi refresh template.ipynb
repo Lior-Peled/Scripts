{
 "cells": [
  {
   "cell_type": "code",
   "execution_count": 30,
   "id": "honest-dietary",
   "metadata": {},
   "outputs": [],
   "source": []
  },
  {
   "cell_type": "code",
   "execution_count": 3,
   "id": "upper-nursery",
   "metadata": {},
   "outputs": [
    {
     "ename": "TypeError",
     "evalue": "acquire_token_with_client_credentials() takes 4 positional arguments but 5 were given",
     "output_type": "error",
     "traceback": [
      "\u001b[1;31m---------------------------------------------------------------------------\u001b[0m",
      "\u001b[1;31mTypeError\u001b[0m                                 Traceback (most recent call last)",
      "\u001b[1;32m<ipython-input-3-17ade14d3f4d>\u001b[0m in \u001b[0;36m<module>\u001b[1;34m\u001b[0m\n\u001b[0;32m     15\u001b[0m                                      \u001b[0mvalidate_authority\u001b[0m\u001b[1;33m=\u001b[0m\u001b[1;32mTrue\u001b[0m\u001b[1;33m,\u001b[0m\u001b[1;33m\u001b[0m\u001b[1;33m\u001b[0m\u001b[0m\n\u001b[0;32m     16\u001b[0m                                      api_version=None)\n\u001b[1;32m---> 17\u001b[1;33m \u001b[0mtoken\u001b[0m \u001b[1;33m=\u001b[0m \u001b[0mcontext\u001b[0m\u001b[1;33m.\u001b[0m\u001b[0macquire_token_with_client_credentials\u001b[0m\u001b[1;33m(\u001b[0m\u001b[0mresource_url\u001b[0m\u001b[1;33m,\u001b[0m \u001b[0mclient_id\u001b[0m\u001b[1;33m,\u001b[0m \u001b[0muser\u001b[0m\u001b[1;33m,\u001b[0m\u001b[0mpassword\u001b[0m\u001b[1;33m)\u001b[0m\u001b[1;33m\u001b[0m\u001b[1;33m\u001b[0m\u001b[0m\n\u001b[0m\u001b[0;32m     18\u001b[0m \u001b[1;33m\u001b[0m\u001b[0m\n\u001b[0;32m     19\u001b[0m \u001b[1;31m#acquire_token_with_username_password(resource, username, password, client_id)[source]\u001b[0m\u001b[1;33m\u001b[0m\u001b[1;33m\u001b[0m\u001b[1;33m\u001b[0m\u001b[0m\n",
      "\u001b[1;31mTypeError\u001b[0m: acquire_token_with_client_credentials() takes 4 positional arguments but 5 were given"
     ]
    }
   ],
   "source": [
    "import requests\n",
    "import json\n",
    "import adal\n",
    "\n",
    "tenant_id = \"e066262f-e599-4384-9941-a1bd6e0068d1\"\n",
    "authority_url = 'https://login.microsoftonline.com/'+tenant_id+'/'\n",
    "resource_url = 'powerbi://api.powerbi.com/v1.0/myorg/POC'     #XMLA WORKSAPCE\n",
    "\n",
    "\n",
    "#client_secret = \"2D7nW3v-XyCrUpMx-.aXo8cfP_pQ9Sjv5p\"\n",
    "user= \"\"\n",
    "password=\"\"\n",
    "client_id = \"9494ee7b-125c-49fb-b312-1a99158d1fb9\"\n",
    "context = adal.AuthenticationContext(authority=authority_url,\n",
    "                                     validate_authority=True,\n",
    "                                     api_version=None)\n",
    "token = context.acquire_token_with_client_credentials(resource_url, client_id, user,password)\n",
    "\n",
    "#acquire_token_with_username_password(resource, username, password, client_id)[source]\n",
    "\n",
    "#token = context.acquire_token_with_username_password(resource_url,user,password, client_id)\n",
    "access_token = token.get('accessToken')\n",
    "print(access_token)"
   ]
  },
  {
   "cell_type": "code",
   "execution_count": 35,
   "id": "enabling-flexibility",
   "metadata": {},
   "outputs": [
    {
     "ename": "AdalError",
     "evalue": "Get Token request returned http error: 400 and server response: {\"error\":\"invalid_resource\",\"error_description\":\"AADSTS500011: The resource principal named powerbi://api.powerbi.com/v1.0/myorg/POC was not found in the tenant named e066262f-e599-4384-9941-a1bd6e0068d1. This can happen if the application has not been installed by the administrator of the tenant or consented to by any user in the tenant. You might have sent your authentication request to the wrong tenant.\\r\\nTrace ID: d76ba352-0d5b-4dd0-b72a-2fcc075d9600\\r\\nCorrelation ID: 130e45b0-bfb7-4a19-aae3-56a8bbc39337\\r\\nTimestamp: 2021-07-15 11:21:06Z\",\"error_codes\":[500011],\"timestamp\":\"2021-07-15 11:21:06Z\",\"trace_id\":\"d76ba352-0d5b-4dd0-b72a-2fcc075d9600\",\"correlation_id\":\"130e45b0-bfb7-4a19-aae3-56a8bbc39337\",\"error_uri\":\"https://login.microsoftonline.com/error?code=500011\"}",
     "output_type": "error",
     "traceback": [
      "\u001b[1;31m---------------------------------------------------------------------------\u001b[0m",
      "\u001b[1;31mAdalError\u001b[0m                                 Traceback (most recent call last)",
      "\u001b[1;32m<ipython-input-35-754894567cde>\u001b[0m in \u001b[0;36m<module>\u001b[1;34m\u001b[0m\n\u001b[0;32m     15\u001b[0m                                      \u001b[0mvalidate_authority\u001b[0m\u001b[1;33m=\u001b[0m\u001b[1;32mTrue\u001b[0m\u001b[1;33m,\u001b[0m\u001b[1;33m\u001b[0m\u001b[1;33m\u001b[0m\u001b[0m\n\u001b[0;32m     16\u001b[0m                                      api_version=None)\n\u001b[1;32m---> 17\u001b[1;33m \u001b[0mtoken\u001b[0m \u001b[1;33m=\u001b[0m \u001b[0mcontext\u001b[0m\u001b[1;33m.\u001b[0m\u001b[0macquire_token_with_client_credentials\u001b[0m\u001b[1;33m(\u001b[0m\u001b[0mresource_url\u001b[0m\u001b[1;33m,\u001b[0m \u001b[0mclient_id\u001b[0m\u001b[1;33m,\u001b[0m \u001b[0mclient_secret\u001b[0m\u001b[1;33m)\u001b[0m\u001b[1;33m\u001b[0m\u001b[1;33m\u001b[0m\u001b[0m\n\u001b[0m\u001b[0;32m     18\u001b[0m \u001b[1;33m\u001b[0m\u001b[0m\n\u001b[0;32m     19\u001b[0m \u001b[0maccess_token\u001b[0m \u001b[1;33m=\u001b[0m \u001b[0mtoken\u001b[0m\u001b[1;33m[\u001b[0m\u001b[1;34m'accessToken'\u001b[0m\u001b[1;33m]\u001b[0m \u001b[1;31m#.get#('accessToken')\u001b[0m\u001b[1;33m\u001b[0m\u001b[1;33m\u001b[0m\u001b[0m\n",
      "\u001b[1;32m~\\AppData\\Local\\Packages\\PythonSoftwareFoundation.Python.3.8_qbz5n2kfra8p0\\LocalCache\\local-packages\\Python38\\site-packages\\adal\\authentication_context.py\u001b[0m in \u001b[0;36macquire_token_with_client_credentials\u001b[1;34m(self, resource, client_id, client_secret)\u001b[0m\n\u001b[0;32m    177\u001b[0m             \u001b[1;32mreturn\u001b[0m \u001b[0mtoken_request\u001b[0m\u001b[1;33m.\u001b[0m\u001b[0mget_token_with_client_credentials\u001b[0m\u001b[1;33m(\u001b[0m\u001b[0mclient_secret\u001b[0m\u001b[1;33m)\u001b[0m\u001b[1;33m\u001b[0m\u001b[1;33m\u001b[0m\u001b[0m\n\u001b[0;32m    178\u001b[0m \u001b[1;33m\u001b[0m\u001b[0m\n\u001b[1;32m--> 179\u001b[1;33m         \u001b[1;32mreturn\u001b[0m \u001b[0mself\u001b[0m\u001b[1;33m.\u001b[0m\u001b[0m_acquire_token\u001b[0m\u001b[1;33m(\u001b[0m\u001b[0mtoken_func\u001b[0m\u001b[1;33m)\u001b[0m\u001b[1;33m\u001b[0m\u001b[1;33m\u001b[0m\u001b[0m\n\u001b[0m\u001b[0;32m    180\u001b[0m \u001b[1;33m\u001b[0m\u001b[0m\n\u001b[0;32m    181\u001b[0m     def acquire_token_with_authorization_code(self, authorization_code, \n",
      "\u001b[1;32m~\\AppData\\Local\\Packages\\PythonSoftwareFoundation.Python.3.8_qbz5n2kfra8p0\\LocalCache\\local-packages\\Python38\\site-packages\\adal\\authentication_context.py\u001b[0m in \u001b[0;36m_acquire_token\u001b[1;34m(self, token_func, correlation_id)\u001b[0m\n\u001b[0;32m    126\u001b[0m             correlation_id or self.correlation_id, self._call_context.get('enable_pii', False))\n\u001b[0;32m    127\u001b[0m         \u001b[0mself\u001b[0m\u001b[1;33m.\u001b[0m\u001b[0mauthority\u001b[0m\u001b[1;33m.\u001b[0m\u001b[0mvalidate\u001b[0m\u001b[1;33m(\u001b[0m\u001b[0mself\u001b[0m\u001b[1;33m.\u001b[0m\u001b[0m_call_context\u001b[0m\u001b[1;33m)\u001b[0m\u001b[1;33m\u001b[0m\u001b[1;33m\u001b[0m\u001b[0m\n\u001b[1;32m--> 128\u001b[1;33m         \u001b[1;32mreturn\u001b[0m \u001b[0mtoken_func\u001b[0m\u001b[1;33m(\u001b[0m\u001b[0mself\u001b[0m\u001b[1;33m)\u001b[0m\u001b[1;33m\u001b[0m\u001b[1;33m\u001b[0m\u001b[0m\n\u001b[0m\u001b[0;32m    129\u001b[0m \u001b[1;33m\u001b[0m\u001b[0m\n\u001b[0;32m    130\u001b[0m     \u001b[1;32mdef\u001b[0m \u001b[0macquire_token\u001b[0m\u001b[1;33m(\u001b[0m\u001b[0mself\u001b[0m\u001b[1;33m,\u001b[0m \u001b[0mresource\u001b[0m\u001b[1;33m,\u001b[0m \u001b[0muser_id\u001b[0m\u001b[1;33m,\u001b[0m \u001b[0mclient_id\u001b[0m\u001b[1;33m)\u001b[0m\u001b[1;33m:\u001b[0m\u001b[1;33m\u001b[0m\u001b[1;33m\u001b[0m\u001b[0m\n",
      "\u001b[1;32m~\\AppData\\Local\\Packages\\PythonSoftwareFoundation.Python.3.8_qbz5n2kfra8p0\\LocalCache\\local-packages\\Python38\\site-packages\\adal\\authentication_context.py\u001b[0m in \u001b[0;36mtoken_func\u001b[1;34m(self)\u001b[0m\n\u001b[0;32m    175\u001b[0m         \u001b[1;32mdef\u001b[0m \u001b[0mtoken_func\u001b[0m\u001b[1;33m(\u001b[0m\u001b[0mself\u001b[0m\u001b[1;33m)\u001b[0m\u001b[1;33m:\u001b[0m\u001b[1;33m\u001b[0m\u001b[1;33m\u001b[0m\u001b[0m\n\u001b[0;32m    176\u001b[0m             \u001b[0mtoken_request\u001b[0m \u001b[1;33m=\u001b[0m \u001b[0mTokenRequest\u001b[0m\u001b[1;33m(\u001b[0m\u001b[0mself\u001b[0m\u001b[1;33m.\u001b[0m\u001b[0m_call_context\u001b[0m\u001b[1;33m,\u001b[0m \u001b[0mself\u001b[0m\u001b[1;33m,\u001b[0m \u001b[0mclient_id\u001b[0m\u001b[1;33m,\u001b[0m \u001b[0mresource\u001b[0m\u001b[1;33m)\u001b[0m\u001b[1;33m\u001b[0m\u001b[1;33m\u001b[0m\u001b[0m\n\u001b[1;32m--> 177\u001b[1;33m             \u001b[1;32mreturn\u001b[0m \u001b[0mtoken_request\u001b[0m\u001b[1;33m.\u001b[0m\u001b[0mget_token_with_client_credentials\u001b[0m\u001b[1;33m(\u001b[0m\u001b[0mclient_secret\u001b[0m\u001b[1;33m)\u001b[0m\u001b[1;33m\u001b[0m\u001b[1;33m\u001b[0m\u001b[0m\n\u001b[0m\u001b[0;32m    178\u001b[0m \u001b[1;33m\u001b[0m\u001b[0m\n\u001b[0;32m    179\u001b[0m         \u001b[1;32mreturn\u001b[0m \u001b[0mself\u001b[0m\u001b[1;33m.\u001b[0m\u001b[0m_acquire_token\u001b[0m\u001b[1;33m(\u001b[0m\u001b[0mtoken_func\u001b[0m\u001b[1;33m)\u001b[0m\u001b[1;33m\u001b[0m\u001b[1;33m\u001b[0m\u001b[0m\n",
      "\u001b[1;32m~\\AppData\\Local\\Packages\\PythonSoftwareFoundation.Python.3.8_qbz5n2kfra8p0\\LocalCache\\local-packages\\Python38\\site-packages\\adal\\token_request.py\u001b[0m in \u001b[0;36mget_token_with_client_credentials\u001b[1;34m(self, client_secret)\u001b[0m\n\u001b[0;32m    310\u001b[0m         \u001b[0moauth_parameters\u001b[0m\u001b[1;33m[\u001b[0m\u001b[0mOAUTH2_PARAMETERS\u001b[0m\u001b[1;33m.\u001b[0m\u001b[0mCLIENT_SECRET\u001b[0m\u001b[1;33m]\u001b[0m \u001b[1;33m=\u001b[0m \u001b[0mclient_secret\u001b[0m\u001b[1;33m\u001b[0m\u001b[1;33m\u001b[0m\u001b[0m\n\u001b[0;32m    311\u001b[0m \u001b[1;33m\u001b[0m\u001b[0m\n\u001b[1;32m--> 312\u001b[1;33m         \u001b[0mtoken\u001b[0m \u001b[1;33m=\u001b[0m \u001b[0mself\u001b[0m\u001b[1;33m.\u001b[0m\u001b[0m_oauth_get_token\u001b[0m\u001b[1;33m(\u001b[0m\u001b[0moauth_parameters\u001b[0m\u001b[1;33m)\u001b[0m\u001b[1;33m\u001b[0m\u001b[1;33m\u001b[0m\u001b[0m\n\u001b[0m\u001b[0;32m    313\u001b[0m         \u001b[0mself\u001b[0m\u001b[1;33m.\u001b[0m\u001b[0m_cache_driver\u001b[0m\u001b[1;33m.\u001b[0m\u001b[0madd\u001b[0m\u001b[1;33m(\u001b[0m\u001b[0mtoken\u001b[0m\u001b[1;33m)\u001b[0m\u001b[1;33m\u001b[0m\u001b[1;33m\u001b[0m\u001b[0m\n\u001b[0;32m    314\u001b[0m         \u001b[1;32mreturn\u001b[0m \u001b[0mtoken\u001b[0m\u001b[1;33m\u001b[0m\u001b[1;33m\u001b[0m\u001b[0m\n",
      "\u001b[1;32m~\\AppData\\Local\\Packages\\PythonSoftwareFoundation.Python.3.8_qbz5n2kfra8p0\\LocalCache\\local-packages\\Python38\\site-packages\\adal\\token_request.py\u001b[0m in \u001b[0;36m_oauth_get_token\u001b[1;34m(self, oauth_parameters)\u001b[0m\n\u001b[0;32m    110\u001b[0m     \u001b[1;32mdef\u001b[0m \u001b[0m_oauth_get_token\u001b[0m\u001b[1;33m(\u001b[0m\u001b[0mself\u001b[0m\u001b[1;33m,\u001b[0m \u001b[0moauth_parameters\u001b[0m\u001b[1;33m)\u001b[0m\u001b[1;33m:\u001b[0m\u001b[1;33m\u001b[0m\u001b[1;33m\u001b[0m\u001b[0m\n\u001b[0;32m    111\u001b[0m         \u001b[0mclient\u001b[0m \u001b[1;33m=\u001b[0m \u001b[0mself\u001b[0m\u001b[1;33m.\u001b[0m\u001b[0m_create_oauth2_client\u001b[0m\u001b[1;33m(\u001b[0m\u001b[1;33m)\u001b[0m\u001b[1;33m\u001b[0m\u001b[1;33m\u001b[0m\u001b[0m\n\u001b[1;32m--> 112\u001b[1;33m         \u001b[1;32mreturn\u001b[0m \u001b[0mclient\u001b[0m\u001b[1;33m.\u001b[0m\u001b[0mget_token\u001b[0m\u001b[1;33m(\u001b[0m\u001b[0moauth_parameters\u001b[0m\u001b[1;33m)\u001b[0m\u001b[1;33m\u001b[0m\u001b[1;33m\u001b[0m\u001b[0m\n\u001b[0m\u001b[0;32m    113\u001b[0m \u001b[1;33m\u001b[0m\u001b[0m\n\u001b[0;32m    114\u001b[0m     \u001b[1;32mdef\u001b[0m \u001b[0m_create_cache_driver\u001b[0m\u001b[1;33m(\u001b[0m\u001b[0mself\u001b[0m\u001b[1;33m)\u001b[0m\u001b[1;33m:\u001b[0m\u001b[1;33m\u001b[0m\u001b[1;33m\u001b[0m\u001b[0m\n",
      "\u001b[1;32m~\\AppData\\Local\\Packages\\PythonSoftwareFoundation.Python.3.8_qbz5n2kfra8p0\\LocalCache\\local-packages\\Python38\\site-packages\\adal\\oauth2_client.py\u001b[0m in \u001b[0;36mget_token\u001b[1;34m(self, oauth_parameters)\u001b[0m\n\u001b[0;32m    287\u001b[0m                 \u001b[1;32mexcept\u001b[0m \u001b[0mValueError\u001b[0m\u001b[1;33m:\u001b[0m\u001b[1;33m\u001b[0m\u001b[1;33m\u001b[0m\u001b[0m\n\u001b[0;32m    288\u001b[0m                     \u001b[1;32mpass\u001b[0m\u001b[1;33m\u001b[0m\u001b[1;33m\u001b[0m\u001b[0m\n\u001b[1;32m--> 289\u001b[1;33m             \u001b[1;32mraise\u001b[0m \u001b[0mAdalError\u001b[0m\u001b[1;33m(\u001b[0m\u001b[0mreturn_error_string\u001b[0m\u001b[1;33m,\u001b[0m \u001b[0merror_response\u001b[0m\u001b[1;33m)\u001b[0m\u001b[1;33m\u001b[0m\u001b[1;33m\u001b[0m\u001b[0m\n\u001b[0m\u001b[0;32m    290\u001b[0m \u001b[1;33m\u001b[0m\u001b[0m\n\u001b[0;32m    291\u001b[0m     \u001b[1;32mdef\u001b[0m \u001b[0mget_user_code_info\u001b[0m\u001b[1;33m(\u001b[0m\u001b[0mself\u001b[0m\u001b[1;33m,\u001b[0m \u001b[0moauth_parameters\u001b[0m\u001b[1;33m)\u001b[0m\u001b[1;33m:\u001b[0m\u001b[1;33m\u001b[0m\u001b[1;33m\u001b[0m\u001b[0m\n",
      "\u001b[1;31mAdalError\u001b[0m: Get Token request returned http error: 400 and server response: {\"error\":\"invalid_resource\",\"error_description\":\"AADSTS500011: The resource principal named powerbi://api.powerbi.com/v1.0/myorg/POC was not found in the tenant named e066262f-e599-4384-9941-a1bd6e0068d1. This can happen if the application has not been installed by the administrator of the tenant or consented to by any user in the tenant. You might have sent your authentication request to the wrong tenant.\\r\\nTrace ID: d76ba352-0d5b-4dd0-b72a-2fcc075d9600\\r\\nCorrelation ID: 130e45b0-bfb7-4a19-aae3-56a8bbc39337\\r\\nTimestamp: 2021-07-15 11:21:06Z\",\"error_codes\":[500011],\"timestamp\":\"2021-07-15 11:21:06Z\",\"trace_id\":\"d76ba352-0d5b-4dd0-b72a-2fcc075d9600\",\"correlation_id\":\"130e45b0-bfb7-4a19-aae3-56a8bbc39337\",\"error_uri\":\"https://login.microsoftonline.com/error?code=500011\"}"
     ]
    }
   ],
   "source": [
    "\n",
    "import adal\n",
    "import requests\n",
    "import json\n",
    "\n",
    "tenant_id = \"e066262f-e599-4384-9941-a1bd6e0068d1\"\n",
    "authority_url = f'https://login.microsoftonline.com/{tenant_id}/'\n",
    "resource_url =  'https://analysis.windows.net/powerbi/api'     \n",
    "client_secret = \"\"\n",
    "\n",
    "\n",
    "client_id = \"\"\n",
    "context = adal.AuthenticationContext(authority=authority_url,\n",
    "                                     validate_authority=True,\n",
    "                                     api_version=None)\n",
    "token = context.acquire_token_with_client_credentials(resource_url, client_id, client_secret)\n",
    "\n",
    "access_token = token['accessToken'] #.get#('accessToken')\n",
    "\n",
    "print (access_token)\n"
   ]
  },
  {
   "cell_type": "code",
   "execution_count": null,
   "id": "silent-semester",
   "metadata": {},
   "outputs": [],
   "source": []
  },
  {
   "cell_type": "code",
   "execution_count": 29,
   "id": "subject-grant",
   "metadata": {},
   "outputs": [],
   "source": [
    "\n",
    "\n",
    "workspaceID = \"\"\n",
    "## get the datasetid's in the workspace\n",
    "\n",
    "dataset_url = f'https://api.powerbi.com/v1.0/myorg/groups/{workspaceID}/datasets'\n",
    "header = {'Authorization': f'Bearer {access_token}','Content-Type':'application/json'}\n",
    "datasets =  json.loads(requests.get(url=dataset_url, headers=header).content)['value']\n",
    "\n",
    "\n",
    "        \n"
   ]
  },
  {
   "cell_type": "code",
   "execution_count": 30,
   "id": "bizarre-saturn",
   "metadata": {},
   "outputs": [
    {
     "name": "stdout",
     "output_type": "stream",
     "text": [
      "downloadme\n",
      "untitled (1)\n"
     ]
    }
   ],
   "source": [
    "for i in range(0,len(datasets)):\n",
    "\n",
    "    print(datasets[i][\"name\"])\n"
   ]
  },
  {
   "cell_type": "code",
   "execution_count": 31,
   "id": "known-minutes",
   "metadata": {},
   "outputs": [
    {
     "name": "stdout",
     "output_type": "stream",
     "text": [
      "202\n",
      "request to refresh dataset \"\"downloadme\"\" accepted\n"
     ]
    }
   ],
   "source": [
    "\n",
    "\n",
    "#get datasetid based on the name\n",
    "requested_dataset = \"downloadme\"\n",
    "\n",
    "for item in datasets:\n",
    "    if item['name']==requested_dataset:\n",
    "         requested_dataset_id = item['id']\n",
    "    else:\n",
    "        pass\n",
    "    \n",
    "#trigger the refresh\n",
    "refresh_url = 'https://api.powerbi.com/v1.0/myorg/groups/' + workspaceID + '/datasets/' + requested_dataset_id + '/refreshes?effectiveDate=07%2F13%2F2021'\n",
    "header = {'Authorization': f'Bearer {access_token}'}\n",
    "r = requests.post(url=refresh_url, headers=header)\n",
    "\n",
    "print(r.status_code)\n",
    "\n",
    "if r.status_code==202:\n",
    "    print(f'request to refresh dataset \"\"{requested_dataset}\"\" accepted')\n",
    "\n",
    "\n"
   ]
  },
  {
   "cell_type": "code",
   "execution_count": 32,
   "id": "arranged-orlando",
   "metadata": {},
   "outputs": [
    {
     "name": "stdout",
     "output_type": "stream",
     "text": [
      "status is Unknown, retrying in 60 seconds\n",
      "status is Unknown, retrying in 60 seconds\n",
      "status is Unknown, retrying in 60 seconds\n",
      "status is Unknown, retrying in 60 seconds\n",
      "status is Unknown, retrying in 60 seconds\n",
      "Refresh Succesful\n"
     ]
    },
    {
     "data": {
      "text/html": [
       "<div>\n",
       "<style scoped>\n",
       "    .dataframe tbody tr th:only-of-type {\n",
       "        vertical-align: middle;\n",
       "    }\n",
       "\n",
       "    .dataframe tbody tr th {\n",
       "        vertical-align: top;\n",
       "    }\n",
       "\n",
       "    .dataframe thead th {\n",
       "        text-align: right;\n",
       "    }\n",
       "</style>\n",
       "<table border=\"1\" class=\"dataframe\">\n",
       "  <thead>\n",
       "    <tr style=\"text-align: right;\">\n",
       "      <th></th>\n",
       "      <th>id</th>\n",
       "      <th>refreshType</th>\n",
       "      <th>startTime</th>\n",
       "      <th>endTime</th>\n",
       "      <th>status</th>\n",
       "      <th>requestId</th>\n",
       "    </tr>\n",
       "  </thead>\n",
       "  <tbody>\n",
       "    <tr>\n",
       "      <th>0</th>\n",
       "      <td>816129636</td>\n",
       "      <td>ViaApi</td>\n",
       "      <td>2021-07-15T11:04:12.767Z</td>\n",
       "      <td>2021-07-15T11:09:30.097Z</td>\n",
       "      <td>Completed</td>\n",
       "      <td>f63a2023-f85c-41fe-8e0b-d174f0a18af2</td>\n",
       "    </tr>\n",
       "  </tbody>\n",
       "</table>\n",
       "</div>"
      ],
      "text/plain": [
       "          id refreshType                 startTime                   endTime  \\\n",
       "0  816129636      ViaApi  2021-07-15T11:04:12.767Z  2021-07-15T11:09:30.097Z   \n",
       "\n",
       "      status                             requestId  \n",
       "0  Completed  f63a2023-f85c-41fe-8e0b-d174f0a18af2  "
      ]
     },
     "execution_count": 32,
     "metadata": {},
     "output_type": "execute_result"
    }
   ],
   "source": [
    "import time\n",
    "#import pandas as pd\n",
    "\n",
    "refresh_status_url= f'https://api.powerbi.com/v1.0/myorg/groups/{workspaceID}/datasets/{requested_dataset_id}/refreshes?$top=1'  \n",
    "header = {'Authorization': f'Bearer {access_token}'}\n",
    "r_status = json.loads(requests.get(url=refresh_status_url, headers=header).content)\n",
    "\n",
    "\n",
    "\n",
    "refresh_status=  r_status['value'][0]['status']\n",
    "while refresh_status == 'Unknown' :\n",
    "        print(f'status is {refresh_status}, retrying in 60 seconds')\n",
    "        time.sleep(60)   #sleep 60 seconds\n",
    "        r_status = json.loads(requests.get(url=refresh_status_url, headers=header).content)\n",
    "        refresh_status=  r_status['value'][0]['status']\n",
    "\n",
    "if refresh_status   == 'Completed' :\n",
    "    print ('Refresh Succesful')\n",
    "elif   refresh_status   == 'Failed' :  \n",
    "     print ('Refresh Failed')\n",
    "      \n",
    "    \n",
    "\n",
    "df= pd.json_normalize(r_status['value']).head(10)\n",
    "df"
   ]
  },
  {
   "cell_type": "code",
   "execution_count": 33,
   "id": "decimal-hampshire",
   "metadata": {},
   "outputs": [
    {
     "name": "stdout",
     "output_type": "stream",
     "text": [
      "b'{\\r\\n  \"@odata.context\":\"http://wabi-us-north-central-b-redirect.analysis.windows.net/v1.0/myorg/groups/9fdfba01-6d6e-41e4-80e6-589c47ba033d/$metadata#refreshes\",\"value\":[\\r\\n    {\\r\\n      \"id\":816129636,\"refreshType\":\"ViaApi\",\"startTime\":\"2021-07-15T11:04:12.767Z\",\"endTime\":\"2021-07-15T11:09:30.097Z\",\"status\":\"Completed\",\"requestId\":\"f63a2023-f85c-41fe-8e0b-d174f0a18af2\"\\r\\n    },{\\r\\n      \"id\":816117714,\"refreshType\":\"ViaApi\",\"startTime\":\"2021-07-15T10:53:17.567Z\",\"endTime\":\"2021-07-15T10:55:19.52Z\",\"status\":\"Completed\",\"requestId\":\"835ca01c-e899-498e-b654-ea19b882ef6d\"\\r\\n    },{\\r\\n      \"id\":816115761,\"refreshType\":\"ViaApi\",\"startTime\":\"2021-07-15T10:51:01.95Z\",\"endTime\":\"2021-07-15T10:53:01.513Z\",\"status\":\"Completed\",\"requestId\":\"4fc65e17-056b-4f80-a8bb-581157dec406\"\\r\\n    },{\\r\\n      \"id\":816114940,\"refreshType\":\"ViaApi\",\"startTime\":\"2021-07-15T10:49:02.907Z\",\"endTime\":\"2021-07-15T10:51:01.84Z\",\"status\":\"Completed\",\"requestId\":\"9f2b5769-e010-4c22-8df2-ccc30f5aa82a\"\\r\\n    },{\\r\\n      \"id\":816106524,\"refreshType\":\"ViaApi\",\"startTime\":\"2021-07-15T10:38:13.003Z\",\"endTime\":\"2021-07-15T10:40:45.26Z\",\"status\":\"Completed\",\"requestId\":\"9b8bae08-bef1-4c95-9ae0-a436b3cd6a79\"\\r\\n    },{\\r\\n      \"id\":815228412,\"refreshType\":\"OnDemand\",\"startTime\":\"2021-07-14T19:14:41.983Z\",\"endTime\":\"2021-07-14T19:28:12.543Z\",\"status\":\"Completed\",\"requestId\":\"55036ed6-3a23-940d-feef-5aeaa70200fb\"\\r\\n    }\\r\\n  ]\\r\\n}'\n"
     ]
    }
   ],
   "source": [
    "refresh_status_url= f'https://api.powerbi.com/v1.0/myorg/groups/{workspaceID}/datasets/{requested_dataset_id}/refreshes?$top=1'  \n",
    "header = {'Authorization': f'Bearer {access_token}'}\n",
    "r_status = requests.get(url=refresh_url, headers=header)\n",
    "\n",
    "print(r_status.content)\n",
    "\n"
   ]
  },
  {
   "cell_type": "code",
   "execution_count": 158,
   "id": "linear-diagnosis",
   "metadata": {},
   "outputs": [],
   "source": [
    "import smtplib, ssl\n",
    "\n",
    "port = 587  # For starttls\n",
    "smtp_server = \"smtp.office365.com\"\n",
    "sender_email = \"\"\n",
    "receiver_email = \"\"\n",
    "password = \"\" #input(\"Type your password and press enter:\")\n",
    "message = \"\"\"\\\n",
    "Subject: Look! Im using python!\n",
    "\n",
    "This message is sent from Python\n",
    "\n",
    "\"\"\" \n",
    "\n",
    "\n",
    "context = ssl.create_default_context()\n",
    "with smtplib.SMTP(smtp_server, port) as server:\n",
    "    server.starttls(context=context)\n",
    "    server.login(sender_email, password)\n",
    "    server.sendmail(sender_email, receiver_email, message)\n",
    "    server.quit()\n"
   ]
  },
  {
   "cell_type": "code",
   "execution_count": 159,
   "id": "proprietary-support",
   "metadata": {},
   "outputs": [
    {
     "data": {
      "text/plain": [
       "['SQL Server',\n",
       " 'SQL Server Native Client 11.0',\n",
       " 'SQL Server Native Client RDA 11.0',\n",
       " 'Microsoft Access dBASE Driver (*.dbf, *.ndx, *.mdx)',\n",
       " 'MySQL ODBC 8.0 ANSI Driver',\n",
       " 'MySQL ODBC 8.0 Unicode Driver',\n",
       " 'ODBC Driver 17 for SQL Server',\n",
       " 'Microsoft Access Driver (*.mdb, *.accdb)',\n",
       " 'Microsoft Excel Driver (*.xls, *.xlsx, *.xlsm, *.xlsb)',\n",
       " 'Microsoft Access Text Driver (*.txt, *.csv)']"
      ]
     },
     "execution_count": 159,
     "metadata": {},
     "output_type": "execute_result"
    }
   ],
   "source": [
    "import pyodbc\n",
    "pyodbc.drivers()"
   ]
  },
  {
   "cell_type": "code",
   "execution_count": null,
   "id": "thirty-bones",
   "metadata": {},
   "outputs": [],
   "source": []
  }
 ],
 "metadata": {
  "kernelspec": {
   "display_name": "Python 3",
   "language": "python",
   "name": "python3"
  },
  "language_info": {
   "codemirror_mode": {
    "name": "ipython",
    "version": 3
   },
   "file_extension": ".py",
   "mimetype": "text/x-python",
   "name": "python",
   "nbconvert_exporter": "python",
   "pygments_lexer": "ipython3",
   "version": "3.8.10"
  }
 },
 "nbformat": 4,
 "nbformat_minor": 5
}
